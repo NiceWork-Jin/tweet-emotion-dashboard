{
 "cells": [
  {
   "cell_type": "code",
   "execution_count": null,
   "id": "3ffef309",
   "metadata": {},
   "outputs": [
    {
     "name": "stdout",
     "output_type": "stream",
     "text": [
      "Waitting until connected\n",
      "b'{\"positive\":2,\"neutral\":0,\"negative\":0}'\n",
      "b'{\"positive\":0,\"neutral\":0,\"negative\":1}'\n",
      "b'{\"positive\":1,\"neutral\":0,\"negative\":1}'\n",
      "b'{\"positive\":1,\"neutral\":0,\"negative\":0}'\n",
      "b'{\"positive\":1,\"neutral\":1,\"negative\":0}'\n",
      "b'{\"positive\":1,\"neutral\":0,\"negative\":0}'\n",
      "b'{\"positive\":2,\"neutral\":0,\"negative\":0}'\n"
     ]
    }
   ],
   "source": [
    "import socket\n",
    "\n",
    "socket = socket.socket()\n",
    "socket.bind((\"localhost\", 5555))\n",
    "socket.listen(1)\n",
    "print(\"Waitting until connected\")\n",
    "\n",
    "while True:\n",
    "    client, addr= socket.accept()\n",
    "    msg = client.recv(1024)\n",
    "\n",
    "    print(msg)"
   ]
  },
  {
   "cell_type": "code",
   "execution_count": null,
   "id": "3a1bd73d",
   "metadata": {},
   "outputs": [],
   "source": []
  }
 ],
 "metadata": {
  "kernelspec": {
   "display_name": "Python 3",
   "language": "python",
   "name": "python3"
  },
  "language_info": {
   "codemirror_mode": {
    "name": "ipython",
    "version": 3
   },
   "file_extension": ".py",
   "mimetype": "text/x-python",
   "name": "python",
   "nbconvert_exporter": "python",
   "pygments_lexer": "ipython3",
   "version": "3.8.8"
  }
 },
 "nbformat": 4,
 "nbformat_minor": 5
}
