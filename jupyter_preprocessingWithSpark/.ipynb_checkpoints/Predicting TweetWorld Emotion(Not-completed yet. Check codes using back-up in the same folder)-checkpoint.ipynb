{
 "cells": [
  {
   "cell_type": "markdown",
   "id": "000529a9",
   "metadata": {},
   "source": [
    "### Create SparkSession"
   ]
  },
  {
   "cell_type": "code",
   "execution_count": 1,
   "id": "84f15028",
   "metadata": {},
   "outputs": [],
   "source": [
    "from pyspark.sql import SparkSession\n",
    "\n",
    "spark = SparkSession \\\n",
    "    .builder \\\n",
    "    .appName(\"Predicting TweetWorld Emotion\") \\\n",
    "    .getOrCreate()"
   ]
  },
  {
   "cell_type": "markdown",
   "id": "69e68fd4",
   "metadata": {},
   "source": [
    "### UDF (Transform from JSON Str with Sigle quotes to Double quotes)"
   ]
  },
  {
   "cell_type": "code",
   "execution_count": 2,
   "id": "9ad5c666",
   "metadata": {},
   "outputs": [],
   "source": [
    "import ast \n",
    "import json \n",
    "from pyspark.sql.functions import udf\n",
    "\n",
    "def convert_json_double(json_single):\n",
    "    json_dict = ast.literal_eval(json_single)\n",
    "    return json.dumps(json_dict)\n",
    "    \n",
    "convert_json_double_udf = udf(lambda x: convert_json_double(x))"
   ]
  },
  {
   "cell_type": "markdown",
   "id": "5920b7f4",
   "metadata": {},
   "source": [
    "### Get the schema from sample tweet."
   ]
  },
  {
   "cell_type": "code",
   "execution_count": 3,
   "id": "c69c749a",
   "metadata": {
    "scrolled": true
   },
   "outputs": [],
   "source": [
    "import pyspark.sql.functions as F\n",
    "\n",
    "with open(\"data/tweet.txt\", 'r') as f:\n",
    "    originSingleQuotes = f.readline()\n",
    "    originDoubleQuotes = convert_json_double(originSingleQuotes)\n",
    "\n",
    "sc = spark.sparkContext\n",
    "originRDD = sc.parallelize([originDoubleQuotes])\n",
    "originDF = spark.read.json(originRDD)\n",
    "\n",
    "columns = originDF.columns"
   ]
  },
  {
   "cell_type": "markdown",
   "id": "49333577",
   "metadata": {},
   "source": [
    "### Send a connection request to Server Socket."
   ]
  },
  {
   "cell_type": "code",
   "execution_count": 4,
   "id": "f3df11ab",
   "metadata": {},
   "outputs": [],
   "source": [
    "socketDF = spark \\\n",
    "    .readStream \\\n",
    "    .format(\"socket\") \\\n",
    "    .option(\"host\", \"localhost\") \\\n",
    "    .option(\"port\", 9999) \\\n",
    "    .load()"
   ]
  },
  {
   "cell_type": "markdown",
   "id": "fd1bc4b5",
   "metadata": {},
   "source": [
    "### Transfrom data to analyze and extract data "
   ]
  },
  {
   "cell_type": "code",
   "execution_count": 5,
   "id": "8b18825d",
   "metadata": {},
   "outputs": [],
   "source": [
    "from pyspark.sql.functions import json_tuple\n",
    "\n",
    "jsonDF = socketDF.select(convert_json_double_udf(\"value\").alias(\"value\"))\n",
    "multiColDF = jsonDF.select(json_tuple(\"value\", *columns)).toDF(*columns)\n",
    "df = multiColDF.select(\"created_at\", \"text\")"
   ]
  },
  {
   "cell_type": "markdown",
   "id": "7f69ea35",
   "metadata": {},
   "source": [
    "### Filter in English before estimating emotion"
   ]
  },
  {
   "cell_type": "code",
   "execution_count": 6,
   "id": "2ff62bfc",
   "metadata": {},
   "outputs": [],
   "source": [
    "from langdetect import detect\n",
    "\n",
    "def detect_language(text):\n",
    "    return detect(text)\n",
    "\n",
    "detect_language_udf = F.udf(lambda x: detect_language(x))"
   ]
  },
  {
   "cell_type": "code",
   "execution_count": 7,
   "id": "c661d4cf",
   "metadata": {},
   "outputs": [],
   "source": [
    "df = df.select(\"created_at\",\"text\", detect_language_udf(\"text\").alias(\"lang\"))"
   ]
  },
  {
   "cell_type": "code",
   "execution_count": 8,
   "id": "7c973386",
   "metadata": {},
   "outputs": [],
   "source": [
    "from pyspark.sql.functions import col\n",
    "df = df.filter(col(\"lang\") == \"en\")"
   ]
  },
  {
   "cell_type": "markdown",
   "id": "2b4e51e5",
   "metadata": {},
   "source": [
    "# Estimating emotion"
   ]
  },
  {
   "cell_type": "code",
   "execution_count": 9,
   "id": "5631ac5b",
   "metadata": {},
   "outputs": [],
   "source": [
    "from textblob import TextBlob\n",
    "positive = 2\n",
    "netural = 1\n",
    "negotive = 0\n",
    "\n",
    "def get_sentiment(text):\n",
    "    sentiment = TextBlob(text).sentiment.polarity\n",
    "    if sentiment > 0:\n",
    "        return positive\n",
    "    elif sentiment < 0:\n",
    "        return negotive\n",
    "    else:\n",
    "        return netural\n",
    "\n",
    "get_sentiment_utf = F.udf(lambda x: get_sentiment(x))"
   ]
  },
  {
   "cell_type": "code",
   "execution_count": 10,
   "id": "61fea887",
   "metadata": {},
   "outputs": [],
   "source": [
    "sentimentDF = df.select(\"created_at\", \"text\", get_sentiment_utf(col(\"text\")).alias(\"sentiment_level\"))"
   ]
  },
  {
   "cell_type": "markdown",
   "id": "a9ecf33c",
   "metadata": {},
   "source": [
    "# run and debug"
   ]
  },
  {
   "cell_type": "code",
   "execution_count": 11,
   "id": "6fb87a17",
   "metadata": {},
   "outputs": [],
   "source": [
    "launch = sentimentDF \\\n",
    "    .writeStream \\\n",
    "    .outputMode(\"append\") \\\n",
    "    .queryName(\"sentimentDF\") \\\n",
    "    .format(\"memory\") \\\n",
    "    .start()"
   ]
  },
  {
   "cell_type": "code",
   "execution_count": 16,
   "id": "6b79671b",
   "metadata": {},
   "outputs": [
    {
     "name": "stdout",
     "output_type": "stream",
     "text": [
      "+--------------------+--------------------+---------------+\n",
      "|          created_at|                text|sentiment_level|\n",
      "+--------------------+--------------------+---------------+\n",
      "|Tue Oct 26 07:30:...|RT @Makgeo_lee: @...|              0|\n",
      "|Tue Oct 26 07:30:...|RT @emilyIina: ya...|              0|\n",
      "|Tue Oct 26 07:30:...|RT @ElegantLogic:...|              2|\n",
      "+--------------------+--------------------+---------------+\n",
      "\n"
     ]
    }
   ],
   "source": [
    "spark.sql(\"select * from sentimentDF\").show(20000)"
   ]
  },
  {
   "cell_type": "code",
   "execution_count": 17,
   "id": "41c3bc66",
   "metadata": {},
   "outputs": [],
   "source": [
    "spark.stop()"
   ]
  }
 ],
 "metadata": {
  "kernelspec": {
   "display_name": "Python 3",
   "language": "python",
   "name": "python3"
  },
  "language_info": {
   "codemirror_mode": {
    "name": "ipython",
    "version": 3
   },
   "file_extension": ".py",
   "mimetype": "text/x-python",
   "name": "python",
   "nbconvert_exporter": "python",
   "pygments_lexer": "ipython3",
   "version": "3.8.8"
  }
 },
 "nbformat": 4,
 "nbformat_minor": 5
}
