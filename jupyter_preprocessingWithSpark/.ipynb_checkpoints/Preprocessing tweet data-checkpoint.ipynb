{
 "cells": [
  {
   "cell_type": "markdown",
   "id": "0894829b",
   "metadata": {},
   "source": [
    "# How to load json typed data from socket?\n",
    "There is pyspark.sql.streaming.DataStreamReader.json\n",
    "<a href=\"https://spark.apache.org/docs/latest/api/python/reference/api/pyspark.sql.streaming.DataStreamReader.json.html#pyspark.sql.streaming.DataStreamReader.json\">(reference)</a>\n",
    "\n",
    "However, It could only read from a file stored in a directory. Not Socket untill I found at least."
   ]
  },
  {
   "cell_type": "code",
   "execution_count": 1,
   "id": "29147673",
   "metadata": {},
   "outputs": [],
   "source": [
    "from pyspark.sql import SparkSession\n",
    "\n",
    "spark = SparkSession \\\n",
    "    .builder \\\n",
    "    .appName(\"Load Streaming Data\") \\\n",
    "    .getOrCreate()"
   ]
  },
  {
   "cell_type": "markdown",
   "id": "fd71f160",
   "metadata": {},
   "source": [
    "## 1. load static data from a sample data"
   ]
  },
  {
   "cell_type": "code",
   "execution_count": 4,
   "id": "d5eeab00",
   "metadata": {},
   "outputs": [],
   "source": [
    "from pyspark.sql.types import StructType"
   ]
  },
  {
   "cell_type": "code",
   "execution_count": 15,
   "id": "f987a74a",
   "metadata": {},
   "outputs": [],
   "source": [
    "static = spark.read.json(\"../data/sample.json\")"
   ]
  },
  {
   "cell_type": "code",
   "execution_count": 17,
   "id": "5f0f1968",
   "metadata": {},
   "outputs": [
    {
     "name": "stdout",
     "output_type": "stream",
     "text": [
      "+----+------+\n",
      "|Name|  Type|\n",
      "+----+------+\n",
      "| JIN|Person|\n",
      "+----+------+\n",
      "\n"
     ]
    }
   ],
   "source": [
    "static.show()"
   ]
  },
  {
   "cell_type": "code",
   "execution_count": null,
   "id": "4ac5f225",
   "metadata": {},
   "outputs": [],
   "source": [
    "sta"
   ]
  },
  {
   "cell_type": "markdown",
   "id": "5c725a68",
   "metadata": {},
   "source": [
    "## 2. load data using Socket"
   ]
  },
  {
   "cell_type": "code",
   "execution_count": null,
   "id": "1d121fdb",
   "metadata": {},
   "outputs": [],
   "source": [
    "socketStream = spark \\\n",
    "    .readStream \\\n",
    "    .format(\"socket\") \\\n",
    "    .option(\"host\", \"localhost\") \\\n",
    "    .option(\"port\", 9999) \\\n",
    "    .load()    "
   ]
  },
  {
   "cell_type": "markdown",
   "id": "42eb5766",
   "metadata": {},
   "source": [
    "## 3. Transfom the data from socket to form of JSON"
   ]
  },
  {
   "cell_type": "code",
   "execution_count": null,
   "id": "717f3540",
   "metadata": {},
   "outputs": [],
   "source": []
  },
  {
   "cell_type": "markdown",
   "id": "f53164a0",
   "metadata": {},
   "source": [
    "# ======================================="
   ]
  },
  {
   "cell_type": "code",
   "execution_count": null,
   "id": "4402752b",
   "metadata": {},
   "outputs": [],
   "source": [
    "from pyspark.sql import SparkSession\n",
    "\n",
    "spark = SparkSession \\\n",
    "    .builder \\\n",
    "    .appName(\"Python Spark SQL basic example\") \\\n",
    "    .config(\"spark.some.config.option\", \"some-value\") \\\n",
    "    .getOrCreate()\n",
    "\n",
    "sc = spark.sparkContext"
   ]
  },
  {
   "cell_type": "markdown",
   "id": "c3688663",
   "metadata": {},
   "source": [
    "# Data form to load\n",
    "\n",
    "{'data':<br> \n",
    "&nbsp;&nbsp;&nbsp;&nbsp;&nbsp;&nbsp;'id': '1442320619366850564',<br>\n",
    "&nbsp;&nbsp;&nbsp;&nbsp;&nbsp;&nbsp;'text': 'RT @AyanamiMatoi: Un sexo se puede?\\nShelly Starbucks. https://t.co/cCOe0pbw3j'<br>},<br>\n",
    "&nbsp;&nbsp;'matching_rules': [{'id': '1442320624253161474', 'tag': ''}]<br>\n",
    "    }<br>\n",
    "\n",
    "# Thinking what column do I need / how to extract\n",
    "(1) This data has a nested form<br>\n",
    "(2) I need a text column only.<br>"
   ]
  },
  {
   "cell_type": "code",
   "execution_count": null,
   "id": "0c9302a4",
   "metadata": {},
   "outputs": [],
   "source": [
    "from pyspark.sql import functions as F"
   ]
  },
  {
   "cell_type": "code",
   "execution_count": null,
   "id": "87a20828",
   "metadata": {},
   "outputs": [],
   "source": [
    "path = \"/Users/seongjin/programming/tweet_to_dashboard/data/tweet.txt\"\n",
    "\n",
    "originDF = spark.read.json(path)\n",
    "originDF.printSchema()"
   ]
  },
  {
   "cell_type": "markdown",
   "id": "0914d83d",
   "metadata": {},
   "source": [
    "# extracting id, text columns only"
   ]
  },
  {
   "cell_type": "code",
   "execution_count": null,
   "id": "e7723276",
   "metadata": {},
   "outputs": [],
   "source": [
    "idTextDF = originDF.select('data.id', 'data.text')"
   ]
  },
  {
   "cell_type": "code",
   "execution_count": null,
   "id": "61033a63",
   "metadata": {},
   "outputs": [],
   "source": [
    "idTextDF.printSchema()"
   ]
  },
  {
   "cell_type": "code",
   "execution_count": null,
   "id": "9d69e2d5",
   "metadata": {},
   "outputs": [],
   "source": [
    "idTextDF.show(3)"
   ]
  },
  {
   "cell_type": "markdown",
   "id": "7f69ea35",
   "metadata": {},
   "source": [
    "# Filter in English before estimating emotion"
   ]
  },
  {
   "cell_type": "markdown",
   "id": "936b1569",
   "metadata": {},
   "source": [
    "1. Make a def\n",
    "2. make a UDF using above (1)"
   ]
  },
  {
   "cell_type": "code",
   "execution_count": null,
   "id": "2ff62bfc",
   "metadata": {},
   "outputs": [],
   "source": [
    "from langdetect import detect\n",
    "\n",
    "def detect_language(text):\n",
    "    return detect(text)\n",
    "\n",
    "detect_language_udf = F.udf(lambda x: detect_language(x))"
   ]
  },
  {
   "cell_type": "code",
   "execution_count": null,
   "id": "c661d4cf",
   "metadata": {},
   "outputs": [],
   "source": [
    "idTextLangDF = idTextDF.select(\n",
    "    col(\"id\"), col(\"text\"), detect_language_udf(col(\"text\")).alias(\"lang\")\n",
    ")"
   ]
  },
  {
   "cell_type": "code",
   "execution_count": null,
   "id": "7c973386",
   "metadata": {},
   "outputs": [],
   "source": [
    "enDF = idTextLangDF.filter(col(\"lang\") == \"en\")\n",
    "enDF.show(3)"
   ]
  },
  {
   "cell_type": "markdown",
   "id": "2b4e51e5",
   "metadata": {},
   "source": [
    "# Estimating emotion"
   ]
  },
  {
   "cell_type": "code",
   "execution_count": null,
   "id": "5631ac5b",
   "metadata": {},
   "outputs": [],
   "source": [
    "from textblob import TextBlob\n",
    "positive = 2\n",
    "netural = 1\n",
    "negotive = 0\n",
    "\n",
    "def get_sentiment(text):\n",
    "    sentiment = TextBlob(text).sentiment.polarity\n",
    "    if sentiment > 0:\n",
    "        return positive\n",
    "    elif sentiment < 0:\n",
    "        return negotive\n",
    "    else:\n",
    "        return netural\n",
    "\n",
    "get_sentiment_utf = F.udf(lambda x: get_sentiment(x))\n",
    "sentimentDF = idTextDF.select(col(\"id\"), col(\"text\"), get_sentiment_utf(col(\"text\")).alias(\"sentiment_level\"))"
   ]
  },
  {
   "cell_type": "code",
   "execution_count": null,
   "id": "bb7c21d9",
   "metadata": {},
   "outputs": [],
   "source": [
    "sentimentDF = enDF.select(col(\"text\"), get_sentiment_utf(col(\"text\")).alias(\"sentiment\"))"
   ]
  },
  {
   "cell_type": "code",
   "execution_count": null,
   "id": "7265230f",
   "metadata": {},
   "outputs": [],
   "source": [
    "sentimentDF.show()"
   ]
  }
 ],
 "metadata": {
  "kernelspec": {
   "display_name": "Python 3",
   "language": "python",
   "name": "python3"
  },
  "language_info": {
   "codemirror_mode": {
    "name": "ipython",
    "version": 3
   },
   "file_extension": ".py",
   "mimetype": "text/x-python",
   "name": "python",
   "nbconvert_exporter": "python",
   "pygments_lexer": "ipython3",
   "version": "3.8.8"
  }
 },
 "nbformat": 4,
 "nbformat_minor": 5
}
