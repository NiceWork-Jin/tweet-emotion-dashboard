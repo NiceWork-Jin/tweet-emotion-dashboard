{
 "cells": [
  {
   "cell_type": "code",
   "execution_count": 1,
   "id": "545ece47",
   "metadata": {},
   "outputs": [],
   "source": [
    "def tweet_load():\n",
    "    with open('./data/tweet.txt', 'r') as f:\n",
    "        for x in f:\n",
    "            if not x:\n",
    "                break\n",
    "            yield x\n",
    "            \n",
    "it = tweet_load()"
   ]
  },
  {
   "cell_type": "code",
   "execution_count": 2,
   "id": "3ffef309",
   "metadata": {},
   "outputs": [],
   "source": [
    "import socket\n",
    "\n",
    "\n",
    "class ServerSocket(object):\n",
    "    def __init__(self, addr, port, backlog=2):\n",
    "        self.addr = addr\n",
    "        self.port = port\n",
    "        server_socket = socket.socket(socket.AF_INET, socket.SOCK_STREAM)\n",
    "        server_socket.bind((addr, port))\n",
    "        server_socket.listen(backlog)\n",
    "        print(\"listening....\")\n",
    "        self.client_server, self.addr = server_socket.accept()\n",
    "        print(f\"Connected by {self.addr[0]}:{self.addr[1]}\")\n",
    "\n",
    "    def write(self, msg):\n",
    "#         msg = msg + '\\n'\n",
    "        self.client_server.send(msg.encode('utf-8'))\n",
    "        print(\"ServerSocket sent a message!\")"
   ]
  },
  {
   "cell_type": "code",
   "execution_count": 3,
   "id": "3b866cbd",
   "metadata": {},
   "outputs": [
    {
     "name": "stdout",
     "output_type": "stream",
     "text": [
      "listening....\n",
      "Connected by 127.0.0.1:57311\n",
      "ServerSocket sent a message!\n",
      "ServerSocket sent a message!\n",
      "ServerSocket sent a message!\n",
      "ServerSocket sent a message!\n",
      "ServerSocket sent a message!\n",
      "ServerSocket sent a message!\n",
      "ServerSocket sent a message!\n",
      "ServerSocket sent a message!\n",
      "ServerSocket sent a message!\n",
      "ServerSocket sent a message!\n",
      "ServerSocket sent a message!\n",
      "ServerSocket sent a message!\n",
      "ServerSocket sent a message!\n",
      "ServerSocket sent a message!\n",
      "ServerSocket sent a message!\n",
      "ServerSocket sent a message!\n",
      "ServerSocket sent a message!\n",
      "ServerSocket sent a message!\n",
      "ServerSocket sent a message!\n",
      "ServerSocket sent a message!\n",
      "ServerSocket sent a message!\n",
      "ServerSocket sent a message!\n",
      "ServerSocket sent a message!\n",
      "ServerSocket sent a message!\n",
      "ServerSocket sent a message!\n",
      "ServerSocket sent a message!\n",
      "ServerSocket sent a message!\n",
      "ServerSocket sent a message!\n",
      "ServerSocket sent a message!\n",
      "ServerSocket sent a message!\n",
      "ServerSocket sent a message!\n",
      "ServerSocket sent a message!\n",
      "ServerSocket sent a message!\n",
      "ServerSocket sent a message!\n",
      "ServerSocket sent a message!\n",
      "ServerSocket sent a message!\n",
      "ServerSocket sent a message!\n",
      "ServerSocket sent a message!\n",
      "ServerSocket sent a message!\n",
      "ServerSocket sent a message!\n",
      "ServerSocket sent a message!\n",
      "ServerSocket sent a message!\n",
      "ServerSocket sent a message!\n",
      "ServerSocket sent a message!\n",
      "ServerSocket sent a message!\n",
      "ServerSocket sent a message!\n",
      "ServerSocket sent a message!\n",
      "ServerSocket sent a message!\n",
      "ServerSocket sent a message!\n",
      "ServerSocket sent a message!\n",
      "ServerSocket sent a message!\n",
      "ServerSocket sent a message!\n",
      "ServerSocket sent a message!\n",
      "ServerSocket sent a message!\n"
     ]
    },
    {
     "ename": "StopIteration",
     "evalue": "",
     "output_type": "error",
     "traceback": [
      "\u001b[0;31m---------------------------------------------------------------------------\u001b[0m",
      "\u001b[0;31mStopIteration\u001b[0m                             Traceback (most recent call last)",
      "\u001b[0;32m<ipython-input-3-911509b4d882>\u001b[0m in \u001b[0;36m<module>\u001b[0;34m\u001b[0m\n\u001b[1;32m      4\u001b[0m \u001b[0;34m\u001b[0m\u001b[0m\n\u001b[1;32m      5\u001b[0m \u001b[0;32mwhile\u001b[0m \u001b[0;32mTrue\u001b[0m\u001b[0;34m:\u001b[0m\u001b[0;34m\u001b[0m\u001b[0;34m\u001b[0m\u001b[0m\n\u001b[0;32m----> 6\u001b[0;31m     \u001b[0mserver_sc\u001b[0m\u001b[0;34m.\u001b[0m\u001b[0mwrite\u001b[0m\u001b[0;34m(\u001b[0m\u001b[0mnext\u001b[0m\u001b[0;34m(\u001b[0m\u001b[0mit\u001b[0m\u001b[0;34m)\u001b[0m\u001b[0;34m)\u001b[0m\u001b[0;34m\u001b[0m\u001b[0;34m\u001b[0m\u001b[0m\n\u001b[0m\u001b[1;32m      7\u001b[0m     \u001b[0mtime\u001b[0m\u001b[0;34m.\u001b[0m\u001b[0msleep\u001b[0m\u001b[0;34m(\u001b[0m\u001b[0;36m1\u001b[0m\u001b[0;34m)\u001b[0m\u001b[0;34m\u001b[0m\u001b[0;34m\u001b[0m\u001b[0m\n",
      "\u001b[0;31mStopIteration\u001b[0m: "
     ]
    }
   ],
   "source": [
    "import time\n",
    "\n",
    "server_sc = ServerSocket('localhost', 9999)\n",
    "\n",
    "while True:\n",
    "    server_sc.write(next(it))\n",
    "    time.sleep(1)"
   ]
  }
 ],
 "metadata": {
  "kernelspec": {
   "display_name": "Python 3",
   "language": "python",
   "name": "python3"
  },
  "language_info": {
   "codemirror_mode": {
    "name": "ipython",
    "version": 3
   },
   "file_extension": ".py",
   "mimetype": "text/x-python",
   "name": "python",
   "nbconvert_exporter": "python",
   "pygments_lexer": "ipython3",
   "version": "3.8.8"
  }
 },
 "nbformat": 4,
 "nbformat_minor": 5
}
