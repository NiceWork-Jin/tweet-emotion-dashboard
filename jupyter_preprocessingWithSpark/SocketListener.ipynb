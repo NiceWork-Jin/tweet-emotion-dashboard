{
 "cells": [
  {
   "cell_type": "code",
   "execution_count": 1,
   "id": "3ffef309",
   "metadata": {},
   "outputs": [
    {
     "name": "stdout",
     "output_type": "stream",
     "text": [
      "Waitting until connected\n",
      "b'{\"window\":{\"start\":\"2021-11-08T17:21:48.000+09:00\",\"end\":\"2021-11-08T17:21:52.000+09:00\"},\"sentiment_level\":\"0\",\"count\":1}'\n",
      "b'{\"window\":{\"start\":\"2021-11-08T17:22:00.000+09:00\",\"end\":\"2021-11-08T17:22:04.000+09:00\"},\"sentiment_level\":\"2\",\"count\":1}'\n",
      "b'{\"window\":{\"start\":\"2021-11-08T17:22:12.000+09:00\",\"end\":\"2021-11-08T17:22:16.000+09:00\"},\"sentiment_level\":\"1\",\"count\":1}'\n",
      "b'{\"window\":{\"start\":\"2021-11-08T17:22:12.000+09:00\",\"end\":\"2021-11-08T17:22:16.000+09:00\"},\"sentiment_level\":\"0\",\"count\":1}'\n",
      "b'{\"window\":{\"start\":\"2021-11-08T17:22:16.000+09:00\",\"end\":\"2021-11-08T17:22:20.000+09:00\"},\"sentiment_level\":\"1\",\"count\":1}'\n",
      "b'{\"window\":{\"start\":\"2021-11-08T17:22:20.000+09:00\",\"end\":\"2021-11-08T17:22:24.000+09:00\"},\"sentiment_level\":\"1\",\"count\":1}'\n",
      "b'{\"window\":{\"start\":\"2021-11-08T17:22:20.000+09:00\",\"end\":\"2021-11-08T17:22:24.000+09:00\"},\"sentiment_level\":\"2\",\"count\":1}'\n",
      "b'{\"window\":{\"start\":\"2021-11-08T17:22:28.000+09:00\",\"end\":\"2021-11-08T17:22:32.000+09:00\"},\"sentiment_level\":\"0\",\"count\":1}'\n",
      "b'{\"window\":{\"start\":\"2021-11-08T17:22:32.000+09:00\",\"end\":\"2021-11-08T17:22:36.000+09:00\"},\"sentiment_level\":\"2\",\"count\":2}'\n",
      "b'{\"window\":{\"start\":\"2021-11-08T17:22:32.000+09:00\",\"end\":\"2021-11-08T17:22:36.000+09:00\"},\"sentiment_level\":\"1\",\"count\":1}'\n",
      "b'{\"window\":{\"start\":\"2021-11-08T17:22:36.000+09:00\",\"end\":\"2021-11-08T17:22:40.000+09:00\"},\"sentiment_level\":\"2\",\"count\":2}'\n",
      "b'{\"window\":{\"start\":\"2021-11-08T17:22:36.000+09:00\",\"end\":\"2021-11-08T17:22:40.000+09:00\"},\"sentiment_level\":\"0\",\"count\":2}'\n",
      "b'{\"window\":{\"start\":\"2021-11-08T17:22:44.000+09:00\",\"end\":\"2021-11-08T17:22:48.000+09:00\"},\"sentiment_level\":\"2\",\"count\":3}'\n",
      "b'{\"window\":{\"start\":\"2021-11-08T17:22:44.000+09:00\",\"end\":\"2021-11-08T17:22:48.000+09:00\"},\"sentiment_level\":\"0\",\"count\":2}'\n",
      "b'{\"window\":{\"start\":\"2021-11-08T17:22:48.000+09:00\",\"end\":\"2021-11-08T17:22:52.000+09:00\"},\"sentiment_level\":\"0\",\"count\":2}'\n",
      "b'{\"window\":{\"start\":\"2021-11-08T17:22:52.000+09:00\",\"end\":\"2021-11-08T17:22:56.000+09:00\"},\"sentiment_level\":\"0\",\"count\":1}'\n",
      "b'{\"window\":{\"start\":\"2021-11-08T17:22:52.000+09:00\",\"end\":\"2021-11-08T17:22:56.000+09:00\"},\"sentiment_level\":\"1\",\"count\":1}'\n",
      "b'{\"window\":{\"start\":\"2021-11-08T17:22:56.000+09:00\",\"end\":\"2021-11-08T17:23:00.000+09:00\"},\"sentiment_level\":\"1\",\"count\":1}'\n"
     ]
    },
    {
     "ename": "KeyboardInterrupt",
     "evalue": "",
     "output_type": "error",
     "traceback": [
      "\u001b[0;31m---------------------------------------------------------------------------\u001b[0m",
      "\u001b[0;31mKeyboardInterrupt\u001b[0m                         Traceback (most recent call last)",
      "\u001b[0;32m<ipython-input-1-9e446b0bc890>\u001b[0m in \u001b[0;36m<module>\u001b[0;34m\u001b[0m\n\u001b[1;32m      7\u001b[0m \u001b[0;34m\u001b[0m\u001b[0m\n\u001b[1;32m      8\u001b[0m \u001b[0;32mwhile\u001b[0m \u001b[0;32mTrue\u001b[0m\u001b[0;34m:\u001b[0m\u001b[0;34m\u001b[0m\u001b[0;34m\u001b[0m\u001b[0m\n\u001b[0;32m----> 9\u001b[0;31m     \u001b[0mclient\u001b[0m\u001b[0;34m,\u001b[0m \u001b[0maddr\u001b[0m\u001b[0;34m=\u001b[0m \u001b[0msocket\u001b[0m\u001b[0;34m.\u001b[0m\u001b[0maccept\u001b[0m\u001b[0;34m(\u001b[0m\u001b[0;34m)\u001b[0m\u001b[0;34m\u001b[0m\u001b[0;34m\u001b[0m\u001b[0m\n\u001b[0m\u001b[1;32m     10\u001b[0m     \u001b[0mmsg\u001b[0m \u001b[0;34m=\u001b[0m \u001b[0mclient\u001b[0m\u001b[0;34m.\u001b[0m\u001b[0mrecv\u001b[0m\u001b[0;34m(\u001b[0m\u001b[0;36m1024\u001b[0m\u001b[0;34m)\u001b[0m\u001b[0;34m\u001b[0m\u001b[0;34m\u001b[0m\u001b[0m\n\u001b[1;32m     11\u001b[0m \u001b[0;34m\u001b[0m\u001b[0m\n",
      "\u001b[0;32m~/opt/anaconda3/lib/python3.8/socket.py\u001b[0m in \u001b[0;36maccept\u001b[0;34m(self)\u001b[0m\n\u001b[1;32m    290\u001b[0m         \u001b[0mFor\u001b[0m \u001b[0mIP\u001b[0m \u001b[0msockets\u001b[0m\u001b[0;34m,\u001b[0m \u001b[0mthe\u001b[0m \u001b[0maddress\u001b[0m \u001b[0minfo\u001b[0m \u001b[0;32mis\u001b[0m \u001b[0ma\u001b[0m \u001b[0mpair\u001b[0m \u001b[0;34m(\u001b[0m\u001b[0mhostaddr\u001b[0m\u001b[0;34m,\u001b[0m \u001b[0mport\u001b[0m\u001b[0;34m)\u001b[0m\u001b[0;34m.\u001b[0m\u001b[0;34m\u001b[0m\u001b[0;34m\u001b[0m\u001b[0m\n\u001b[1;32m    291\u001b[0m         \"\"\"\n\u001b[0;32m--> 292\u001b[0;31m         \u001b[0mfd\u001b[0m\u001b[0;34m,\u001b[0m \u001b[0maddr\u001b[0m \u001b[0;34m=\u001b[0m \u001b[0mself\u001b[0m\u001b[0;34m.\u001b[0m\u001b[0m_accept\u001b[0m\u001b[0;34m(\u001b[0m\u001b[0;34m)\u001b[0m\u001b[0;34m\u001b[0m\u001b[0;34m\u001b[0m\u001b[0m\n\u001b[0m\u001b[1;32m    293\u001b[0m         \u001b[0msock\u001b[0m \u001b[0;34m=\u001b[0m \u001b[0msocket\u001b[0m\u001b[0;34m(\u001b[0m\u001b[0mself\u001b[0m\u001b[0;34m.\u001b[0m\u001b[0mfamily\u001b[0m\u001b[0;34m,\u001b[0m \u001b[0mself\u001b[0m\u001b[0;34m.\u001b[0m\u001b[0mtype\u001b[0m\u001b[0;34m,\u001b[0m \u001b[0mself\u001b[0m\u001b[0;34m.\u001b[0m\u001b[0mproto\u001b[0m\u001b[0;34m,\u001b[0m \u001b[0mfileno\u001b[0m\u001b[0;34m=\u001b[0m\u001b[0mfd\u001b[0m\u001b[0;34m)\u001b[0m\u001b[0;34m\u001b[0m\u001b[0;34m\u001b[0m\u001b[0m\n\u001b[1;32m    294\u001b[0m         \u001b[0;31m# Issue #7995: if no default timeout is set and the listening\u001b[0m\u001b[0;34m\u001b[0m\u001b[0;34m\u001b[0m\u001b[0;34m\u001b[0m\u001b[0m\n",
      "\u001b[0;31mKeyboardInterrupt\u001b[0m: "
     ]
    }
   ],
   "source": [
    "import socket\n",
    "\n",
    "socket = socket.socket()\n",
    "socket.bind((\"localhost\", 5555))\n",
    "socket.listen(1)\n",
    "print(\"Waitting until connected\")\n",
    "\n",
    "while True:\n",
    "    client, addr= socket.accept()\n",
    "    msg = client.recv(1024)\n",
    "\n",
    "    print(msg)"
   ]
  },
  {
   "cell_type": "code",
   "execution_count": null,
   "id": "3a1bd73d",
   "metadata": {},
   "outputs": [],
   "source": []
  }
 ],
 "metadata": {
  "kernelspec": {
   "display_name": "Python 3",
   "language": "python",
   "name": "python3"
  },
  "language_info": {
   "codemirror_mode": {
    "name": "ipython",
    "version": 3
   },
   "file_extension": ".py",
   "mimetype": "text/x-python",
   "name": "python",
   "nbconvert_exporter": "python",
   "pygments_lexer": "ipython3",
   "version": "3.8.8"
  }
 },
 "nbformat": 4,
 "nbformat_minor": 5
}
